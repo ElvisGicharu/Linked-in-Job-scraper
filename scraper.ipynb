{
 "cells": [
  {
   "cell_type": "code",
   "execution_count": 44,
   "metadata": {},
   "outputs": [],
   "source": [
    "from selenium import webdriver\n",
    "from selenium.webdriver.common.by import By\n",
    "import extra.constants as const\n",
    "import os\n",
    "import time\n"
   ]
  },
  {
   "cell_type": "code",
   "execution_count": 45,
   "metadata": {},
   "outputs": [],
   "source": [
    "# creating data\n",
    "import pandas as pd\n",
    "pd.DataFrame()\n",
    "l_job_title=[]\n",
    "l_company=[]\n",
    "l_applicant_no=[]\n",
    "\n"
   ]
  },
  {
   "cell_type": "code",
   "execution_count": 46,
   "metadata": {},
   "outputs": [],
   "source": [
    "# Log into Linked in\n",
    "driver=webdriver.Chrome()\n",
    "driver.get(const.BASE_URL)\n",
    "\n",
    "driver.implicitly_wait(10)\n",
    "\n",
    "mail=driver.find_element(By.ID,'session_key')\n",
    "passcode=driver.find_element(By.ID,'session_password')\n",
    "\n",
    "mail.send_keys(const.USER_MAIL)\n",
    "passcode.send_keys(const.USER_PASS)\n",
    "\n",
    "driver.implicitly_wait(10)\n",
    "button=driver.find_element(By.XPATH,'/html/body/main/section[1]/div/div/form/div[2]/button')\n",
    "button.click()\n"
   ]
  },
  {
   "cell_type": "code",
   "execution_count": 47,
   "metadata": {},
   "outputs": [],
   "source": [
    "# Open Jobs\n",
    "\n",
    "# Input Details\n",
    "County=input('Enter the location...')\n",
    "job=input('Enter Job')\n",
    "driver.implicitly_wait(10)\n",
    "driver.get(f'https://www.linkedin.com/jobs/search/?keywords={job}&location={County}&refresh=true')\n",
    "\n",
    "# How to change pages????"
   ]
  },
  {
   "cell_type": "code",
   "execution_count": 49,
   "metadata": {},
   "outputs": [],
   "source": [
    "# Finds lists inside the ul\n",
    "job_blocks=driver.find_element(By.CLASS_NAME,'scaffold-layout__list-container').find_elements(By.TAG_NAME,'li')\n",
    "\n",
    "# iterating through blocks...... I wont use it cause i dont understand it, but i'll put it here for later\n",
    "# .....................................................................\n",
    "# for job in job_blocks:\n",
    "#     # scrolls\n",
    "#     driver.execute_script(\"arguments[0].scrollIntoView();\",job)\n",
    "#     time.sleep(1)\n",
    "# .......................................................................\n",
    "# Looking for the job titles\n",
    "job_links=driver.find_elements(By.XPATH,\"//ul[@class='scaffold-layout__list-container']/li/div/div[1]/div[1]/div[2]/div[1]/a\")\n",
    "# Looping through them and clicking the links in the title\n",
    "for link in job_links:\n",
    "    link.click()\n",
    "    time.sleep(1)\n",
    "    job_title=driver.find_element(By.XPATH,\"//h2[@class='t-24 t-bold jobs-unified-top-card__job-title']\").text    \n",
    "    company=driver.find_element(By.XPATH,\"//div[@class='jobs-unified-top-card__primary-description']/div/a\").get_attribute(\"text\")\n",
    "    applicant_no=driver.find_element(By.XPATH,\"//div[@class='jobs-unified-top-card__primary-description']/div/span[5]\").text\n",
    "    # responsibilities=driver.find_elements(By.XPATH,\"//div[@id='job-details']/span/ul[1]/li\")   \n",
    "    # print(responsibilities)\n",
    "    \n",
    "    # Add to repsective lists\n",
    "    l_job_title.append(job_title)\n",
    "    l_applicant_no.append(applicant_no)\n",
    "    l_company.append(company)\n",
    "    \n",
    "    \n"
   ]
  },
  {
   "cell_type": "code",
   "execution_count": 50,
   "metadata": {},
   "outputs": [],
   "source": [
    "# Create Dataframe\n",
    "data={\"Job Titlle\": l_job_title,\"Company Name\":l_company,\"No of applicants\": l_applicant_no}\n",
    "df=pd.DataFrame(data)"
   ]
  },
  {
   "cell_type": "code",
   "execution_count": 52,
   "metadata": {},
   "outputs": [
    {
     "data": {
      "text/html": [
       "<div>\n",
       "<style scoped>\n",
       "    .dataframe tbody tr th:only-of-type {\n",
       "        vertical-align: middle;\n",
       "    }\n",
       "\n",
       "    .dataframe tbody tr th {\n",
       "        vertical-align: top;\n",
       "    }\n",
       "\n",
       "    .dataframe thead th {\n",
       "        text-align: right;\n",
       "    }\n",
       "</style>\n",
       "<table border=\"1\" class=\"dataframe\">\n",
       "  <thead>\n",
       "    <tr style=\"text-align: right;\">\n",
       "      <th></th>\n",
       "      <th>Job Titlle</th>\n",
       "      <th>Company Name</th>\n",
       "      <th>No of applicants</th>\n",
       "    </tr>\n",
       "  </thead>\n",
       "  <tbody>\n",
       "    <tr>\n",
       "      <th>0</th>\n",
       "      <td>Senior Salesforce Developer</td>\n",
       "      <td>Singlify</td>\n",
       "      <td>85 applicants</td>\n",
       "    </tr>\n",
       "    <tr>\n",
       "      <th>1</th>\n",
       "      <td>Senior SecOps Engineer</td>\n",
       "      <td>Tala</td>\n",
       "      <td>52 applicants</td>\n",
       "    </tr>\n",
       "    <tr>\n",
       "      <th>2</th>\n",
       "      <td>Senior Mobile Engineer, gt.school (Remote) - $...</td>\n",
       "      <td>Crossover</td>\n",
       "      <td>21 applicants</td>\n",
       "    </tr>\n",
       "    <tr>\n",
       "      <th>3</th>\n",
       "      <td>PVC Specialist (Talent Pooling )</td>\n",
       "      <td>RA International</td>\n",
       "      <td>102 applicants</td>\n",
       "    </tr>\n",
       "    <tr>\n",
       "      <th>4</th>\n",
       "      <td>Data Analyst</td>\n",
       "      <td>Turing</td>\n",
       "      <td>402 applicants</td>\n",
       "    </tr>\n",
       "  </tbody>\n",
       "</table>\n",
       "</div>"
      ],
      "text/plain": [
       "                                          Job Titlle      Company Name  \\\n",
       "0                        Senior Salesforce Developer          Singlify   \n",
       "1                             Senior SecOps Engineer              Tala   \n",
       "2  Senior Mobile Engineer, gt.school (Remote) - $...        Crossover    \n",
       "3                   PVC Specialist (Talent Pooling )  RA International   \n",
       "4                                       Data Analyst            Turing   \n",
       "\n",
       "  No of applicants  \n",
       "0    85 applicants  \n",
       "1    52 applicants  \n",
       "2    21 applicants  \n",
       "3   102 applicants  \n",
       "4   402 applicants  "
      ]
     },
     "execution_count": 52,
     "metadata": {},
     "output_type": "execute_result"
    }
   ],
   "source": [
    "df.head()"
   ]
  }
 ],
 "metadata": {
  "kernelspec": {
   "display_name": "Python 3",
   "language": "python",
   "name": "python3"
  },
  "language_info": {
   "codemirror_mode": {
    "name": "ipython",
    "version": 3
   },
   "file_extension": ".py",
   "mimetype": "text/x-python",
   "name": "python",
   "nbconvert_exporter": "python",
   "pygments_lexer": "ipython3",
   "version": "3.11.4"
  },
  "orig_nbformat": 4
 },
 "nbformat": 4,
 "nbformat_minor": 2
}
